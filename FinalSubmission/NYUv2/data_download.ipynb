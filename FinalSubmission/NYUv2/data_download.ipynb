{
 "cells": [
  {
   "cell_type": "markdown",
   "metadata": {
    "id": "HpYdEQI2ivvU"
   },
   "source": [
    "# Deep Learning 基礎講座 最終課題: セグメンテーション データダウンロード用\n",
    "\n",
    "- 下記の notebook を実行することで，最終課題の セグメンテーション コンペティションに利用するデータが作成されます．\n",
    "- 実行時のランタイムは CPU で問題ございません．\n",
    "- データのダウンロードと分割に 10 分ほどかかることを確認しています．\n",
    "- **スクリプト内で 1 度オリジナルのデータをダウンロードしています．サーバー負荷を考慮して可能な限り複数回の実行はお控えください．**"
   ]
  },
  {
   "cell_type": "code",
   "execution_count": null,
   "metadata": {
    "id": "KMYqN9a4i5RK"
   },
   "outputs": [],
   "source": [
    "# omnicampus の演習環境用\n",
    "!pip install googledrivedownloader"
   ]
  },
  {
   "cell_type": "code",
   "execution_count": null,
   "metadata": {
    "id": "PPq_VoiCJ8Zh"
   },
   "outputs": [],
   "source": [
    "# データのダウンロードと分割\n",
    "from googledrivedownloader import download_file_from_google_drive\n",
    "import os\n",
    "import shutil\n",
    "\n",
    "if \"COLAB_\" in \"\".join(os.environ.keys()):\n",
    "    # colab 用の id\n",
    "    file_id = \"1DJkCuAkrh8yLxNfB_VDLmNlZBIqgbxID\"\n",
    "\n",
    "else:\n",
    "    # omnicampus 用の id\n",
    "    file_id = \"1D_vJ1lTpEI-s_OQuIznGfPHq6ghmZrpD\"\n",
    "download_file_from_google_drive(\n",
    "    file_id=file_id,\n",
    "    dest_path='./split_data_scripts',\n",
    "    unzip=True\n",
    ")"
   ]
  },
  {
   "cell_type": "code",
   "execution_count": null,
   "metadata": {
    "id": "OCaaUqZ_y0gH"
   },
   "outputs": [],
   "source": [
    "#omnicampusで実行する場合は、書き換える.\n",
    "%cd split_data_scripts_colab/\n",
    "!python3 extract_nyuv2.py"
   ]
  },
  {
   "cell_type": "code",
   "execution_count": null,
   "metadata": {
    "colab": {
     "base_uri": "https://localhost:8080/"
    },
    "executionInfo": {
     "elapsed": 22008,
     "status": "ok",
     "timestamp": 1748452464386,
     "user": {
      "displayName": "三富佑人",
      "userId": "02381481834375845603"
     },
     "user_tz": -540
    },
    "id": "6oUSVOADi-OI",
    "outputId": "6b12085a-a2bc-4e5e-e278-ade151c8400e"
   },
   "outputs": [],
   "source": [
    "# google drive のマウント\n",
    "from google.colab import drive\n",
    "drive.mount('/content/drive')"
   ]
  },
  {
   "cell_type": "code",
   "execution_count": null,
   "metadata": {
    "id": "9hHhGisGi_D8"
   },
   "outputs": [],
   "source": [
    "#omnicampusで実行する場合は、書き換える.\n",
    "!cp \"/content/split_data_scripts_colab/data.zip\" \"/content/drive/MyDrive\""
   ]
  }
 ],
 "metadata": {
  "colab": {
   "provenance": []
  },
  "kernelspec": {
   "display_name": "Python 3 (ipykernel)",
   "language": "python",
   "name": "python3"
  },
  "language_info": {
   "codemirror_mode": {
    "name": "ipython",
    "version": 3
   },
   "file_extension": ".py",
   "mimetype": "text/x-python",
   "name": "python",
   "nbconvert_exporter": "python",
   "pygments_lexer": "ipython3",
   "version": "3.10.6"
  }
 },
 "nbformat": 4,
 "nbformat_minor": 4
}
