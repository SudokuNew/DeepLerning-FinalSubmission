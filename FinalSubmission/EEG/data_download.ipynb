{
 "cells": [
  {
   "cell_type": "markdown",
   "metadata": {
    "id": "kqzchmdJoXjQ"
   },
   "source": [
    "# Deep Learning 基礎講座 最終課題: 脳波分類 データダウンロード用\n",
    "\n",
    "- 下記の notebook を実行することで，最終課題の 脳波分類 コンペティションに利用するデータが作成されます．\n",
    "- 実行時のランタイムは CPU で問題ございません．\n",
    "- データのダウンロードと分割に 30 分ほどかかることを確認しています．\n",
    "- **スクリプト内で 1 度オリジナルのデータをダウンロードしています．サーバー負荷を考慮して可能な限り複数回の実行はお控えください．**"
   ]
  },
  {
   "cell_type": "code",
   "execution_count": null,
   "metadata": {
    "id": "QXTmWlZi2bVS"
   },
   "outputs": [],
   "source": [
    "# omnicampus の演習環境用\n",
    "!pip install googledrivedownloader"
   ]
  },
  {
   "cell_type": "code",
   "execution_count": null,
   "metadata": {
    "id": "Ej9HczPmcbsz"
   },
   "outputs": [],
   "source": [
    "# データのダウンロードと分割\n",
    "import os\n",
    "import subprocess\n",
    "!pip install googledrivedownloader\n",
    "from googledrivedownloader import download_file_from_google_drive\n",
    "\n",
    "file_id = \"1swwXVBcH2RJOJwtps2D0Fl5EBJQfeGeS\" if \"COLAB_\" in \"\".join(os.environ.keys()) else \"1O9QhJxP3U_rLKVKnJHR4vBAjAwhXbc4Z\"\n",
    "download_file_from_google_drive(\n",
    "    file_id=file_id,\n",
    "    dest_path='./dist.zip',\n",
    "    unzip=True,\n",
    ")\n",
    "download_file_from_google_drive(\n",
    "    file_id=\"1cpZ0JLgzQo1wGBxtULJB35RLqIjs_gxX\",\n",
    "    dest_path='./split_data.sh',\n",
    ")\n",
    "download_file_from_google_drive(\n",
    "    file_id=\"1eQlnnbvaMtYPJxqqffdurcrjda7YmaOs\",\n",
    "    dest_path='./categorization.tsv',\n",
    ")\n",
    "download_file_from_google_drive(\n",
    "    file_id=\"1LfmZMCukEqK7MuOPH_fjjbZvmw-IH3mC\",\n",
    "    dest_path='./category_mat_manual.tsv',\n",
    ")"
   ]
  },
  {
   "cell_type": "code",
   "execution_count": null,
   "metadata": {
    "id": "i5dvCzJzuBMv"
   },
   "outputs": [],
   "source": [
    "subprocess.run([\"chmod\", \"+x\", \"dist/split_data.py\"])\n",
    "subprocess.run([\"chmod\", \"+x\", \"split_data.sh\"])\n",
    "output = subprocess.run([\"./split_data.sh\"], capture_output=True, text=True)\n",
    "print(output.stdout)"
   ]
  },
  {
   "cell_type": "code",
   "execution_count": null,
   "metadata": {
    "colab": {
     "base_uri": "https://localhost:8080/"
    },
    "executionInfo": {
     "elapsed": 18066,
     "status": "ok",
     "timestamp": 1748437850095,
     "user": {
      "displayName": "Sensho Nobe",
      "userId": "10041880977514616020"
     },
     "user_tz": -540
    },
    "id": "3BU03aQOphXY",
    "outputId": "fd4037a9-4a46-48ae-cc14-5d05d11736f7"
   },
   "outputs": [],
   "source": [
    "# google drive のマウント（Colabの場合）\n",
    "from google.colab import drive\n",
    "drive.mount('/content/drive')"
   ]
  },
  {
   "cell_type": "code",
   "execution_count": null,
   "metadata": {
    "id": "8y6VJvrrqlxN"
   },
   "outputs": [],
   "source": [
    "# パスは保存したいディレクトリに適宜修正してください\n",
    "!cp -r data /content/drive/MyDrive/weblab/DLBasics2025/Competition/"
   ]
  },
  {
   "cell_type": "code",
   "execution_count": null,
   "metadata": {
    "id": "M_QD_Pe24l8K"
   },
   "outputs": [],
   "source": []
  }
 ],
 "metadata": {
  "colab": {
   "provenance": [
    {
     "file_id": "1Jd6oLd6hC9t3sz986l1MrNz8Jeu7CoVc",
     "timestamp": 1748418886187
    }
   ]
  },
  "kernelspec": {
   "display_name": "Python 3 (ipykernel)",
   "language": "python",
   "name": "python3"
  },
  "language_info": {
   "codemirror_mode": {
    "name": "ipython",
    "version": 3
   },
   "file_extension": ".py",
   "mimetype": "text/x-python",
   "name": "python",
   "nbconvert_exporter": "python",
   "pygments_lexer": "ipython3",
   "version": "3.10.6"
  }
 },
 "nbformat": 4,
 "nbformat_minor": 4
}
