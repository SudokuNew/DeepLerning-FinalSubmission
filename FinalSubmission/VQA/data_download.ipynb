{
 "cells": [
  {
   "cell_type": "markdown",
   "metadata": {
    "id": "kqzchmdJoXjQ"
   },
   "source": [
    "# Deep Learning 基礎講座 最終課題: VQA データダウンロード用\n",
    "\n",
    "- 下記の notebook を実行することで，最終課題の VQA コンペティションに利用するデータが作成されます．\n",
    "- 実行時のランタイムは CPU で問題ございません．\n",
    "- データのダウンロードと分割に 30 分ほどかかることを確認しています．\n",
    "- **スクリプト内で 1 度オリジナルのデータをダウンロードしています．サーバー負荷を考慮して可能な限り複数回の実行はお控えください．**\n",
    "\n",
    "## 注意点\n",
    "- \"data.zip\" のサイズ (**12GB**) の影響で，data.zip を google colab にアップロードすることができません．そのため， google drive に配置しない場合，google colab でのベースライン実行はできません．申し訳ございませんが， omnicampus の演習環境の利用をお願いいたします．\n",
    "- google drive への配置が困難な方は，omnicampus の演習環境へのアップロードのために，データ分割後の \"data.zip\" をローカルへダウンロードしてください．サイドバーを開き，ディレクトリを開いたのちに \"data.zip\" を右クリック，ダウンロードで可能です．"
   ]
  },
  {
   "cell_type": "code",
   "execution_count": null,
   "metadata": {
    "id": "msSTjiPRkwA-"
   },
   "outputs": [],
   "source": [
    "# omnicampus 上では実行不要\n",
    "# google drive のマウント\n",
    "from google.colab import drive\n",
    "drive.mount('/content/drive')"
   ]
  },
  {
   "cell_type": "code",
   "execution_count": null,
   "metadata": {
    "id": "ok3N_PhZn0Ox"
   },
   "outputs": [],
   "source": [
    "# omnicampus の演習環境用\n",
    "!pip install googledrivedownloader"
   ]
  },
  {
   "cell_type": "code",
   "execution_count": null,
   "metadata": {
    "id": "i5dvCzJzuBMv"
   },
   "outputs": [],
   "source": [
    "# データのダウンロードと分割\n",
    "import os\n",
    "import subprocess\n",
    "from googledrivedownloader import download_file_from_google_drive\n",
    "\n",
    "\n",
    "if \"COLAB_\" in \"\".join(os.environ.keys()):\n",
    "    # colab 用の id\n",
    "    file_id = \"1C849b8a0xLU9TH8N7Mqq5NrwjB5HS4nB\"\n",
    "else:\n",
    "    # omnicampus 用の id\n",
    "    file_id = \"1yh6WqMAuwi32pjCBWpfRIinIYEZjcL2g\"\n",
    "\n",
    "download_file_from_google_drive(\n",
    "    file_id=file_id,\n",
    "    dest_path=\"./split_data_scripts\",\n",
    "    unzip=True\n",
    ")\n",
    "\n",
    "subprocess.run([\"chmod\", \"+x\", \"split_data.py\"])\n",
    "subprocess.run([\"chmod\", \"+x\", \"split_data.sh\"])\n",
    "subprocess.run([\"./split_data.sh\"])"
   ]
  },
  {
   "cell_type": "code",
   "execution_count": null,
   "metadata": {
    "id": "8y6VJvrrqlxN"
   },
   "outputs": [],
   "source": [
    "# omnicampus 上では実行不要\n",
    "# パスは保存したいディレクトリに適宜修正してください\n",
    "!zip -r data.zip data\n",
    "!cp \"data.zip\" \"/content/drive/MyDrive\""
   ]
  },
  {
   "cell_type": "code",
   "execution_count": null,
   "metadata": {
    "id": "9oQhgqbOjUXJ"
   },
   "outputs": [],
   "source": []
  }
 ],
 "metadata": {
  "colab": {
   "provenance": []
  },
  "kernelspec": {
   "display_name": "Python 3 (ipykernel)",
   "language": "python",
   "name": "python3"
  },
  "language_info": {
   "codemirror_mode": {
    "name": "ipython",
    "version": 3
   },
   "file_extension": ".py",
   "mimetype": "text/x-python",
   "name": "python",
   "nbconvert_exporter": "python",
   "pygments_lexer": "ipython3",
   "version": "3.10.6"
  }
 },
 "nbformat": 4,
 "nbformat_minor": 4
}
